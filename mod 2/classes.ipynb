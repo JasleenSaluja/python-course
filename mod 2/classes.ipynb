{
 "cells": [
  {
   "cell_type": "code",
   "execution_count": 1,
   "metadata": {},
   "outputs": [
    {
     "name": "stdout",
     "output_type": "stream",
     "text": [
      "<class 'str'>\n"
     ]
    }
   ],
   "source": [
    "x='hello'\n",
    "print(type(x))"
   ]
  },
  {
   "cell_type": "code",
   "execution_count": null,
   "metadata": {},
   "outputs": [],
   "source": []
  },
  {
   "cell_type": "code",
   "execution_count": 2,
   "metadata": {},
   "outputs": [],
   "source": [
    "class Dog:\n",
    "    def bark(self):\n",
    "        print(\"woof\")\n",
    "    def bite(self,item):\n",
    "        print(f\"biting{item}\")\n",
    "\n",
    "    def __init__(self,age,breed,gender):    #dunder method\n",
    "        self.age=age\n",
    "        self.breed=breed\n",
    "        self.gender=gender\n"
   ]
  },
  {
   "cell_type": "code",
   "execution_count": 3,
   "metadata": {},
   "outputs": [
    {
     "name": "stdout",
     "output_type": "stream",
     "text": [
      "woof\n",
      "bitingshoe\n",
      "bitingfish\n",
      "woof\n"
     ]
    }
   ],
   "source": [
    "tiger =Dog(3,'German Shepherd','male')\n",
    "badshah=Dog(5,'pitbull','male')\n",
    "\n",
    "tiger.bark()\n",
    "badshah.bite('shoe')\n",
    "tiger.bite('fish')\n",
    "badshah.bark()"
   ]
  },
  {
   "cell_type": "code",
   "execution_count": 4,
   "metadata": {},
   "outputs": [],
   "source": [
    "class super_list(list):\n",
    "    def sum(self):\n",
    "        return sum(self)\n",
    "    def mean(self):\n",
    "        return sum(self)/len(self)\n",
    "    def size(self):\n",
    "        return len(self)"
   ]
  },
  {
   "cell_type": "code",
   "execution_count": 5,
   "metadata": {},
   "outputs": [
    {
     "name": "stdout",
     "output_type": "stream",
     "text": [
      "2.8\n",
      "4.0\n",
      "5\n",
      "5\n",
      "14\n",
      "20\n",
      "24\n",
      "4.0\n",
      "6\n"
     ]
    }
   ],
   "source": [
    "x=super_list([1,2,3,3,5])\n",
    "y=super_list([5,6,3,1,5])\n",
    "print(x.mean())\n",
    "print(y.mean())\n",
    "print(x.size())\n",
    "print(y.size())\n",
    "print(x.sum())\n",
    "print(y.sum())\n",
    "x.append(10)\n",
    "y.append(20)\n",
    "print(x.sum())\n",
    "print(x.mean())\n",
    "print(x.size())"
   ]
  },
  {
   "cell_type": "code",
   "execution_count": 1,
   "metadata": {},
   "outputs": [],
   "source": [
    "from dataclasses import dataclass\n",
    "\n",
    "@dataclass\n",
    "class ProductV2:\n",
    "    id:int\n",
    "    name:str\n",
    "    price:float\n",
    "    brand:str\n",
    "    category:str\n",
    "    description:str\n",
    "    stock:int\n",
    "    rating:float\n"
   ]
  },
  {
   "cell_type": "code",
   "execution_count": 6,
   "metadata": {},
   "outputs": [
    {
     "data": {
      "text/plain": [
       "ProductV2(id=1, name='iPhone', price=100000, brand='Apple', category='Electronics', description='iPhone 12', stock=100, rating=4.5)"
      ]
     },
     "execution_count": 6,
     "metadata": {},
     "output_type": "execute_result"
    }
   ],
   "source": [
    "p2 = ProductV2(1,'iPhone',100000,'Apple','Electronics','iPhone 12',100,4.5)\n",
    "p2"
   ]
  }
 ],
 "metadata": {
  "kernelspec": {
   "display_name": "base",
   "language": "python",
   "name": "python3"
  },
  "language_info": {
   "codemirror_mode": {
    "name": "ipython",
    "version": 3
   },
   "file_extension": ".py",
   "mimetype": "text/x-python",
   "name": "python",
   "nbconvert_exporter": "python",
   "pygments_lexer": "ipython3",
   "version": "3.10.8"
  },
  "orig_nbformat": 4
 },
 "nbformat": 4,
 "nbformat_minor": 2
}
