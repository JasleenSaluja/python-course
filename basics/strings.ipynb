{
 "cells": [
  {
   "cell_type": "code",
   "execution_count": 2,
   "metadata": {},
   "outputs": [],
   "source": [
    "name='vijay deenanath chauhan'"
   ]
  },
  {
   "cell_type": "code",
   "execution_count": null,
   "metadata": {},
   "outputs": [],
   "source": []
  },
  {
   "cell_type": "code",
   "execution_count": null,
   "metadata": {},
   "outputs": [],
   "source": []
  },
  {
   "cell_type": "code",
   "execution_count": 3,
   "metadata": {},
   "outputs": [
    {
     "data": {
      "text/plain": [
       "23"
      ]
     },
     "execution_count": 3,
     "metadata": {},
     "output_type": "execute_result"
    }
   ],
   "source": [
    "len(name)"
   ]
  },
  {
   "attachments": {},
   "cell_type": "markdown",
   "metadata": {},
   "source": [
    "''' triple qoutes''' #multiline comment or string"
   ]
  },
  {
   "attachments": {},
   "cell_type": "markdown",
   "metadata": {},
   "source": [
    "python indexing\n",
    "\n",
    "-positive indexing\n",
    "\n",
    "-negative indexing"
   ]
  },
  {
   "cell_type": "code",
   "execution_count": 4,
   "metadata": {},
   "outputs": [
    {
     "name": "stdout",
     "output_type": "stream",
     "text": [
      " bahut saari lines \n",
      "agr aap likhna chahte h\n",
      " to aap aise likh skte h\n"
     ]
    }
   ],
   "source": [
    "msg=''' bahut saari lines \n",
    "agr aap likhna chahte h\n",
    " to aap aise likh skte h'''\n",
    "print(msg)"
   ]
  },
  {
   "cell_type": "code",
   "execution_count": 6,
   "metadata": {},
   "outputs": [
    {
     "name": "stdout",
     "output_type": "stream",
     "text": [
      " \n",
      "h\n",
      "s\n"
     ]
    }
   ],
   "source": [
    "print(msg[0])\n",
    "print(msg[-1]) #last character of string\n",
    "print(msg[7]) #4 item"
   ]
  },
  {
   "cell_type": "code",
   "execution_count": 7,
   "metadata": {},
   "outputs": [
    {
     "name": "stdout",
     "output_type": "stream",
     "text": [
      "v a y\n"
     ]
    }
   ],
   "source": [
    "print(name[0],name[3],name[4])"
   ]
  },
  {
   "attachments": {},
   "cell_type": "markdown",
   "metadata": {},
   "source": [
    "- slicing syntax\n",
    "\n",
    "'x[startidx:endidx:stop]'\n",
    "\n",
    "examples\n",
    "\n",
    "-'x[5:15] ->5th to 14th index data'\n",
    "\n",
    "-x[ :10] ->begin from 0th index to 9th index data\n",
    "\n",
    "-x[5: ] -> 5th index to end of data"
   ]
  },
  {
   "cell_type": "code",
   "execution_count": 8,
   "metadata": {},
   "outputs": [
    {
     "data": {
      "text/plain": [
       "'nath'"
      ]
     },
     "execution_count": 8,
     "metadata": {},
     "output_type": "execute_result"
    }
   ],
   "source": [
    "name[6:-8]\n",
    "name[-12:-8]"
   ]
  },
  {
   "cell_type": "code",
   "execution_count": 9,
   "metadata": {},
   "outputs": [
    {
     "data": {
      "text/plain": [
       "'vijay'"
      ]
     },
     "execution_count": 9,
     "metadata": {},
     "output_type": "execute_result"
    }
   ],
   "source": [
    "name[:5]"
   ]
  },
  {
   "cell_type": "code",
   "execution_count": 10,
   "metadata": {},
   "outputs": [
    {
     "data": {
      "text/plain": [
       "'chauhan'"
      ]
     },
     "execution_count": 10,
     "metadata": {},
     "output_type": "execute_result"
    }
   ],
   "source": [
    "name[-7:]"
   ]
  },
  {
   "cell_type": "code",
   "execution_count": 11,
   "metadata": {},
   "outputs": [
    {
     "name": "stdout",
     "output_type": "stream",
     "text": [
      "jasleen\n",
      "saluja\n"
     ]
    }
   ],
   "source": [
    "name='jasleen saluja'\n",
    "fname=name[:7]\n",
    "lname=name[8:]\n",
    "print(fname)\n",
    "print(lname)"
   ]
  },
  {
   "cell_type": "code",
   "execution_count": 13,
   "metadata": {},
   "outputs": [
    {
     "data": {
      "text/plain": [
       "'ale aua'"
      ]
     },
     "execution_count": 13,
     "metadata": {},
     "output_type": "execute_result"
    }
   ],
   "source": [
    "name[1::2] #start se end tak with step 2"
   ]
  },
  {
   "cell_type": "code",
   "execution_count": 14,
   "metadata": {},
   "outputs": [
    {
     "data": {
      "text/plain": [
       "'ajulas neelsaj'"
      ]
     },
     "execution_count": 14,
     "metadata": {},
     "output_type": "execute_result"
    }
   ],
   "source": [
    "name[::-1]"
   ]
  },
  {
   "cell_type": "code",
   "execution_count": 16,
   "metadata": {},
   "outputs": [],
   "source": [
    "x='encyclopedia'"
   ]
  },
  {
   "cell_type": "code",
   "execution_count": 18,
   "metadata": {},
   "outputs": [
    {
     "data": {
      "text/plain": [
       "'ce'"
      ]
     },
     "execution_count": 18,
     "metadata": {},
     "output_type": "execute_result"
    }
   ],
   "source": [
    "x[2::-2]"
   ]
  },
  {
   "cell_type": "code",
   "execution_count": 19,
   "metadata": {},
   "outputs": [
    {
     "data": {
      "text/plain": [
       "'266'"
      ]
     },
     "execution_count": 19,
     "metadata": {},
     "output_type": "execute_result"
    }
   ],
   "source": [
    "'$26637@737829.USD'[1:4]"
   ]
  },
  {
   "cell_type": "code",
   "execution_count": 20,
   "metadata": {},
   "outputs": [
    {
     "data": {
      "text/plain": [
       "'aluja'"
      ]
     },
     "execution_count": 20,
     "metadata": {},
     "output_type": "execute_result"
    }
   ],
   "source": [
    "name[::-1][:5][::-1]"
   ]
  },
  {
   "attachments": {},
   "cell_type": "markdown",
   "metadata": {},
   "source": [
    " ### string method\n",
    "\n",
    " -formatting method\n",
    "\n",
    "    -upper()\n",
    "\n",
    "    -lower()\n",
    "\n",
    "    -capitalize()\n",
    "\n",
    "    -swapcase()\n",
    "\n",
    "    -casefold()\n",
    "\n",
    "    -title()\n",
    "\n",
    "    -center()\n",
    "\n",
    "    -ljust()\n",
    "\n",
    "    -rjust()\n",
    "\n",
    "-validation method\n",
    "\n",
    "    -isalnum()\n",
    "\n",
    "    -isalpha()\n",
    "\n",
    "    -islower()\n",
    "\n",
    "    -isupper()\n",
    "\n",
    "    -isnumeric()\n",
    "\n",
    "    -istitle()\n",
    "\n",
    "    -startswith()\n",
    "\n",
    "    -endswith()\n",
    "\n",
    "-search method\n",
    "\n",
    "    -find()\n",
    "\n",
    "    -index()\n",
    "\n",
    "-utility method\n",
    "\n",
    "    -replace()\n",
    "\n",
    "    -split()\n",
    "\n",
    "    -join()\n",
    "\n",
    "    -strip()\n",
    "    "
   ]
  },
  {
   "cell_type": "code",
   "execution_count": 1,
   "metadata": {},
   "outputs": [],
   "source": [
    "msg='journey before destination'"
   ]
  },
  {
   "cell_type": "code",
   "execution_count": 2,
   "metadata": {},
   "outputs": [
    {
     "name": "stdout",
     "output_type": "stream",
     "text": [
      "JOURNEY BEFORE DESTINATION\n",
      "journey before destination\n",
      "Journey Before Destination\n",
      "Journey before destination\n",
      "JOURNEY BEFORE DESTINATION\n",
      "journey before destination\n"
     ]
    }
   ],
   "source": [
    "print(msg.upper())\n",
    "print(msg.lower())\n",
    "print(msg.title())\n",
    "print(msg.capitalize())\n",
    "print(msg.swapcase())\n",
    "print(msg.casefold()) #same as lower()"
   ]
  },
  {
   "cell_type": "code",
   "execution_count": 3,
   "metadata": {},
   "outputs": [
    {
     "data": {
      "text/plain": [
       "False"
      ]
     },
     "execution_count": 3,
     "metadata": {},
     "output_type": "execute_result"
    }
   ],
   "source": [
    "msg.isalpha() #because the string contains space"
   ]
  },
  {
   "cell_type": "code",
   "execution_count": 4,
   "metadata": {},
   "outputs": [
    {
     "data": {
      "text/plain": [
       "True"
      ]
     },
     "execution_count": 4,
     "metadata": {},
     "output_type": "execute_result"
    }
   ],
   "source": [
    "\"Oregano\".isalpha()"
   ]
  },
  {
   "cell_type": "code",
   "execution_count": 5,
   "metadata": {},
   "outputs": [
    {
     "name": "stdout",
     "output_type": "stream",
     "text": [
      "good boy/girl\n"
     ]
    }
   ],
   "source": [
    "fname=input(\"enter your first name:\") #isalpha gives true if it contains only alphabets\n",
    "if fname.isalpha():\n",
    "    print(\"good boy/girl\")\n",
    "else:\n",
    "    print(\"Are u stupid?\")"
   ]
  },
  {
   "cell_type": "code",
   "execution_count": 7,
   "metadata": {},
   "outputs": [
    {
     "data": {
      "text/plain": [
       "False"
      ]
     },
     "execution_count": 7,
     "metadata": {},
     "output_type": "execute_result"
    }
   ],
   "source": [
    "\"1231.23\".isnumeric()#only integers not float"
   ]
  },
  {
   "cell_type": "code",
   "execution_count": 8,
   "metadata": {},
   "outputs": [
    {
     "data": {
      "text/plain": [
       "True"
      ]
     },
     "execution_count": 8,
     "metadata": {},
     "output_type": "execute_result"
    }
   ],
   "source": [
    "'112a3p4'.isalnum() #checks if it contains integers and alphabets"
   ]
  },
  {
   "cell_type": "code",
   "execution_count": 10,
   "metadata": {},
   "outputs": [
    {
     "data": {
      "text/plain": [
       "True"
      ]
     },
     "execution_count": 10,
     "metadata": {},
     "output_type": "execute_result"
    }
   ],
   "source": [
    "n='Ms. vijaya'\n",
    "n.startswith('Ms') #checks whether the string starts with the given value"
   ]
  },
  {
   "cell_type": "code",
   "execution_count": 11,
   "metadata": {},
   "outputs": [
    {
     "name": "stdout",
     "output_type": "stream",
     "text": [
      "welcome sir\n",
      "you are not invited\n",
      "welcome doctor\n",
      "welcome doctor\n",
      "welcome sir\n"
     ]
    }
   ],
   "source": [
    "guests=['Mr.alex','Ms.verma','Dr.vijay','Dr.rani','Mr.singh']\n",
    "for name in guests:\n",
    "    if name.startswith('Mr'):\n",
    "        print(\"welcome sir\")\n",
    "    elif name.startswith(\"Dr\"):\n",
    "        print(\"welcome doctor\")\n",
    "    elif name.startswith('Er'):\n",
    "         print(\"Not allowed\")\n",
    "    else:\n",
    "        print(\"you are not invited\")"
   ]
  },
  {
   "cell_type": "code",
   "execution_count": 12,
   "metadata": {},
   "outputs": [
    {
     "name": "stdout",
     "output_type": "stream",
     "text": [
      "['app_one.py', 'func.ipynb', 'func2.ipynb', 'loops.ipynb', 'nested.py', 'strings.ipynb', 'tt.py']\n"
     ]
    }
   ],
   "source": [
    "import os  #os is a library\n",
    "files=os.listdir()\n",
    "print(files)"
   ]
  },
  {
   "cell_type": "code",
   "execution_count": 13,
   "metadata": {},
   "outputs": [
    {
     "name": "stdout",
     "output_type": "stream",
     "text": [
      "app_one.py is python script\n",
      "func.ipynb is a jupyter file \n",
      "func2.ipynb is a jupyter file \n",
      "loops.ipynb is a jupyter file \n",
      "nested.py is python script\n",
      "strings.ipynb is a jupyter file \n",
      "tt.py is python script\n"
     ]
    }
   ],
   "source": [
    "for file in files:\n",
    "    if file.endswith('.py'):\n",
    "        print(f'{file} is python script')\n",
    "    elif file.endswith('.ipynb'):\n",
    "        print(f'{file} is a jupyter file ')\n",
    "    elif file.endswith('.txt'):\n",
    "        print(f'{file}is a text file')\n",
    "    elif file.endswith('.md'):\n",
    "        print(f'{file} is markdown file')\n",
    "    else:\n",
    "        print(f'{file}is an unknown file')\n"
   ]
  },
  {
   "cell_type": "code",
   "execution_count": 14,
   "metadata": {},
   "outputs": [
    {
     "data": {
      "text/plain": [
       "'journey before destination'"
      ]
     },
     "execution_count": 14,
     "metadata": {},
     "output_type": "execute_result"
    }
   ],
   "source": [
    "msg"
   ]
  },
  {
   "cell_type": "code",
   "execution_count": 20,
   "metadata": {},
   "outputs": [
    {
     "data": {
      "text/plain": [
       "12"
      ]
     },
     "execution_count": 20,
     "metadata": {},
     "output_type": "execute_result"
    }
   ],
   "source": [
    "msg.find(\"before\") #searches the sequence\n",
    "msg.rfind(\"r\")#searches the sequence from the end"
   ]
  },
  {
   "cell_type": "code",
   "execution_count": 19,
   "metadata": {},
   "outputs": [],
   "source": [
    "data=\"once upon a time, there was a person that lived. The end\""
   ]
  },
  {
   "cell_type": "code",
   "execution_count": 22,
   "metadata": {},
   "outputs": [
    {
     "data": {
      "text/plain": [
       "17"
      ]
     },
     "execution_count": 22,
     "metadata": {},
     "output_type": "execute_result"
    }
   ],
   "source": [
    "data.find('t',13) #searches from the 13th index"
   ]
  },
  {
   "cell_type": "code",
   "execution_count": 23,
   "metadata": {},
   "outputs": [
    {
     "data": {
      "text/plain": [
       "-1"
      ]
     },
     "execution_count": 23,
     "metadata": {},
     "output_type": "execute_result"
    }
   ],
   "source": [
    "data.find('z') # -1 means not found"
   ]
  },
  {
   "cell_type": "code",
   "execution_count": 24,
   "metadata": {},
   "outputs": [
    {
     "data": {
      "text/plain": [
       "0"
      ]
     },
     "execution_count": 24,
     "metadata": {},
     "output_type": "execute_result"
    }
   ],
   "source": [
    "data.count('this') #count()- it counts the number of time the given value is present in the string"
   ]
  },
  {
   "cell_type": "code",
   "execution_count": 25,
   "metadata": {},
   "outputs": [],
   "source": [
    "data='as the day was coming to an end,our hero was ready to go to sleep. The end'"
   ]
  },
  {
   "cell_type": "code",
   "execution_count": 26,
   "metadata": {},
   "outputs": [
    {
     "name": "stdout",
     "output_type": "stream",
     "text": [
      "['as', 'the', 'day', 'was', 'coming', 'to', 'an', 'end,our', 'hero', 'was', 'ready', 'to', 'go', 'to', 'sleep.', 'The', 'end']\n"
     ]
    }
   ],
   "source": [
    "words=data.split() #it splits each word according to the space by default\n",
    "print(words)"
   ]
  },
  {
   "cell_type": "code",
   "execution_count": 27,
   "metadata": {},
   "outputs": [
    {
     "name": "stdout",
     "output_type": "stream",
     "text": [
      "['as the day was coming to an end,our hero was ready to go to sleep', ' The end']\n"
     ]
    }
   ],
   "source": [
    "s=data.split('.') #splits according to the given value\n",
    "print(s)"
   ]
  },
  {
   "cell_type": "code",
   "execution_count": 28,
   "metadata": {},
   "outputs": [
    {
     "data": {
      "text/plain": [
       "'abra ka dabra'"
      ]
     },
     "execution_count": 28,
     "metadata": {},
     "output_type": "execute_result"
    }
   ],
   "source": [
    "x=['abra','ka','dabra']\n",
    "\" \".join(x)  #it joins the list/tuple of strings into one single string(not numeric list or tuple)\n"
   ]
  },
  {
   "cell_type": "code",
   "execution_count": 29,
   "metadata": {},
   "outputs": [
    {
     "data": {
      "text/plain": [
       "'as the day was coming to an end,our hero was ready to go to sleep. The end'"
      ]
     },
     "execution_count": 29,
     "metadata": {},
     "output_type": "execute_result"
    }
   ],
   "source": [
    "data"
   ]
  },
  {
   "cell_type": "code",
   "execution_count": 30,
   "metadata": {},
   "outputs": [
    {
     "data": {
      "text/plain": [
       "'as the day was coming to an end,our villain was ready to go to sleep. The end'"
      ]
     },
     "execution_count": 30,
     "metadata": {},
     "output_type": "execute_result"
    }
   ],
   "source": [
    "data.replace('hero','villain')"
   ]
  },
  {
   "cell_type": "code",
   "execution_count": 33,
   "metadata": {},
   "outputs": [
    {
     "data": {
      "text/plain": [
       "'as the day was coming to an start,our villain was ready to go to sleep. to be continued...'"
      ]
     },
     "execution_count": 33,
     "metadata": {},
     "output_type": "execute_result"
    }
   ],
   "source": [
    "data.replace('hero','villain').replace('end','start',1).replace('The end','to be continued...')"
   ]
  },
  {
   "cell_type": "code",
   "execution_count": 34,
   "metadata": {},
   "outputs": [
    {
     "data": {
      "text/plain": [
       "'aaaas the daaaay waaaas coming to aaaan end,our hero waaaas reaaaady to go to sleep. The end'"
      ]
     },
     "execution_count": 34,
     "metadata": {},
     "output_type": "execute_result"
    }
   ],
   "source": [
    "data.replace('a','aaaa')"
   ]
  },
  {
   "cell_type": "code",
   "execution_count": 35,
   "metadata": {},
   "outputs": [
    {
     "name": "stdout",
     "output_type": "stream",
     "text": [
      " jasleen\n",
      "8\n",
      "jasleen\n",
      "7\n"
     ]
    }
   ],
   "source": [
    "name=input(\"enter your name:\")\n",
    "print(name)\n",
    "print(len(name))\n",
    "name=name.strip()\n",
    "print(name)\n",
    "print(len(name))"
   ]
  },
  {
   "attachments": {},
   "cell_type": "markdown",
   "metadata": {},
   "source": [
    "wap to remove all the vowels from the string\n",
    "wap to remove all the punctuations from the string\n",
    "wap count all the words in a string\n",
    "count all the vowels in a string"
   ]
  },
  {
   "cell_type": "code",
   "execution_count": 43,
   "metadata": {},
   "outputs": [],
   "source": [
    "y='my name is jasleen saluja'"
   ]
  },
  {
   "cell_type": "code",
   "execution_count": 42,
   "metadata": {},
   "outputs": [
    {
     "ename": "TypeError",
     "evalue": "can only concatenate str (not \"int\") to str",
     "output_type": "error",
     "traceback": [
      "\u001b[1;31m---------------------------------------------------------------------------\u001b[0m",
      "\u001b[1;31mTypeError\u001b[0m                                 Traceback (most recent call last)",
      "Cell \u001b[1;32mIn[42], line 3\u001b[0m\n\u001b[0;32m      1\u001b[0m \u001b[39mfor\u001b[39;00m i \u001b[39min\u001b[39;00m y:\n\u001b[0;32m      2\u001b[0m     \u001b[39mif\u001b[39;00m \u001b[39mstr\u001b[39m(i)\u001b[39m.\u001b[39mfind(\u001b[39m'\u001b[39m\u001b[39ma\u001b[39m\u001b[39m'\u001b[39m)\u001b[39m|\u001b[39m\u001b[39mstr\u001b[39m(i)\u001b[39m.\u001b[39mfind(\u001b[39m'\u001b[39m\u001b[39me\u001b[39m\u001b[39m'\u001b[39m)\u001b[39m|\u001b[39m\u001b[39mstr\u001b[39m(i)\u001b[39m.\u001b[39mfind(\u001b[39m'\u001b[39m\u001b[39mi\u001b[39m\u001b[39m'\u001b[39m)\u001b[39m|\u001b[39m\u001b[39mstr\u001b[39m(i)\u001b[39m.\u001b[39mfind(\u001b[39m'\u001b[39m\u001b[39mo\u001b[39m\u001b[39m'\u001b[39m)\u001b[39m|\u001b[39m\u001b[39mstr\u001b[39m(i)\u001b[39m.\u001b[39mfind(\u001b[39m'\u001b[39m\u001b[39mu\u001b[39m\u001b[39m'\u001b[39m):\n\u001b[1;32m----> 3\u001b[0m         \u001b[39mstr\u001b[39m(i)\u001b[39m.\u001b[39mreplace(\u001b[39mstr\u001b[39m(i\u001b[39m+\u001b[39;49m\u001b[39m1\u001b[39;49m))\n",
      "\u001b[1;31mTypeError\u001b[0m: can only concatenate str (not \"int\") to str"
     ]
    }
   ],
   "source": [
    "for i in y:\n",
    "    if str(i).find('a')|str(i).find('e')|str(i).find('i')|str(i).find('o')|str(i).find('u'):\n",
    "        str(i).replace(str(i+1))"
   ]
  },
  {
   "cell_type": "code",
   "execution_count": 46,
   "metadata": {},
   "outputs": [
    {
     "name": "stdout",
     "output_type": "stream",
     "text": [
      "my name is jasleen saluja\n"
     ]
    }
   ],
   "source": [
    "y.replace('a',' ').replace('e',' ').replace('i',' ').replace('o',' ').replace('u',' ')\n",
    "print(y)"
   ]
  },
  {
   "cell_type": "code",
   "execution_count": 6,
   "metadata": {},
   "outputs": [],
   "source": [
    "movies =['KGF','RRR','iron man','thor','after','captain america','after we collided','fault in our stars','five feet apart','YJHD']"
   ]
  },
  {
   "cell_type": "code",
   "execution_count": 9,
   "metadata": {},
   "outputs": [],
   "source": [
    "movies.reverse()"
   ]
  },
  {
   "cell_type": "code",
   "execution_count": 4,
   "metadata": {},
   "outputs": [
    {
     "name": "stdout",
     "output_type": "stream",
     "text": [
      "1\n",
      "0\n"
     ]
    }
   ],
   "source": [
    "print(movies.index('iron man'))\n",
    "print(movies.index('thor'))"
   ]
  },
  {
   "cell_type": "code",
   "execution_count": 8,
   "metadata": {},
   "outputs": [],
   "source": [
    "movies_backup =movies.copy()  #it creates acopy of the list such that changes made to the copy are not made to the orginal list"
   ]
  },
  {
   "cell_type": "code",
   "execution_count": 10,
   "metadata": {},
   "outputs": [],
   "source": [
    "import random as rnd"
   ]
  },
  {
   "cell_type": "code",
   "execution_count": 11,
   "metadata": {},
   "outputs": [
    {
     "name": "stdout",
     "output_type": "stream",
     "text": [
      "['after', 'iron man', 'five feet apart', 'fault in our stars', 'RRR', 'KGF', 'YJHD', 'thor', 'captain america', 'after we collided']\n"
     ]
    }
   ],
   "source": [
    "rnd.shuffle(movies) #shuffles the list\n",
    "print(movies)"
   ]
  },
  {
   "cell_type": "code",
   "execution_count": 12,
   "metadata": {},
   "outputs": [
    {
     "data": {
      "text/plain": [
       "'fault in our stars'"
      ]
     },
     "execution_count": 12,
     "metadata": {},
     "output_type": "execute_result"
    }
   ],
   "source": [
    "rnd.choice(movies)"
   ]
  },
  {
   "cell_type": "code",
   "execution_count": 14,
   "metadata": {},
   "outputs": [
    {
     "data": {
      "text/plain": [
       "['fault in our stars', 'five feet apart', 'thor']"
      ]
     },
     "execution_count": 14,
     "metadata": {},
     "output_type": "execute_result"
    }
   ],
   "source": [
    "rnd.choices(movies,k=3)"
   ]
  },
  {
   "cell_type": "code",
   "execution_count": null,
   "metadata": {},
   "outputs": [],
   "source": []
  }
 ],
 "metadata": {
  "kernelspec": {
   "display_name": "base",
   "language": "python",
   "name": "python3"
  },
  "language_info": {
   "codemirror_mode": {
    "name": "ipython",
    "version": 3
   },
   "file_extension": ".py",
   "mimetype": "text/x-python",
   "name": "python",
   "nbconvert_exporter": "python",
   "pygments_lexer": "ipython3",
   "version": "3.10.8"
  },
  "orig_nbformat": 4,
  "vscode": {
   "interpreter": {
    "hash": "fb42e6a7d9ea774a34db5b7d83c7e46f440895e001e73d6fbba2132d09faa9e1"
   }
  }
 },
 "nbformat": 4,
 "nbformat_minor": 2
}
