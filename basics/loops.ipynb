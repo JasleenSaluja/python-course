{
 "cells": [
  {
   "cell_type": "code",
   "execution_count": null,
   "metadata": {},
   "outputs": [],
   "source": []
  },
  {
   "attachments": {},
   "cell_type": "markdown",
   "metadata": {},
   "source": [
    "iterables(anything that can be used in a loop)\n",
    "for loop\n",
    "    -step based loop\n",
    "    -special iterables\n",
    "        -'range()'\n",
    "        -'enumerate()'\n",
    "        -'zip()'\n",
    "    for-else\n",
    "while loop\n",
    "    -condition based loop\n",
    "\n",
    "    While condition:\n",
    "        # do something\n",
    "        \n",
    "    -while-else"
   ]
  },
  {
   "attachments": {},
   "cell_type": "markdown",
   "metadata": {},
   "source": [
    "iterables(anything that can be used in a loop)\n",
    "-list\n",
    "-tuple\n",
    "-set\n",
    "-dictionary\n",
    "-"
   ]
  },
  {
   "cell_type": "code",
   "execution_count": 1,
   "metadata": {},
   "outputs": [
    {
     "name": "stdout",
     "output_type": "stream",
     "text": [
      "12\n",
      "52\n",
      "13\n",
      "24\n",
      "45\n"
     ]
    }
   ],
   "source": [
    "x=[12,52,13,24,45]\n",
    "for i in x:\n",
    "    print(i)"
   ]
  },
  {
   "cell_type": "code",
   "execution_count": 2,
   "metadata": {},
   "outputs": [
    {
     "name": "stdout",
     "output_type": "stream",
     "text": [
      "have you seen tiger\n",
      "have you seen elephant\n",
      "have you seen leopard\n"
     ]
    }
   ],
   "source": [
    "animals=['tiger','elephant','leopard']\n",
    "for animal in animals:\n",
    "    print(f'have you seen {animal}')\n",
    "    "
   ]
  },
  {
   "cell_type": "code",
   "execution_count": 3,
   "metadata": {},
   "outputs": [
    {
     "name": "stdout",
     "output_type": "stream",
     "text": [
      "jumanji              | 10\n",
      "resident evil        | 10\n",
      "gangs of wasepur     | 10\n",
      "RRR                  | 10\n",
      "KGF                  | 10\n",
      "harry potter         | 10\n",
      "iron man             | 10\n",
      "thor:ragnorok        | 10\n",
      "roketary             | 10\n",
      "captain america      | 10\n"
     ]
    }
   ],
   "source": [
    "movies=['jumanji','resident evil','gangs of wasepur','RRR','KGF','harry potter','iron man','thor:ragnorok','roketary','captain america']\n",
    "for movie in movies:\n",
    "    print(f'{movie:20} | {len(movies)}')"
   ]
  },
  {
   "cell_type": "code",
   "execution_count": 5,
   "metadata": {},
   "outputs": [
    {
     "name": "stdout",
     "output_type": "stream",
     "text": [
      "10 9 8 7 6 5 4 3 2 1 "
     ]
    }
   ],
   "source": [
    "#reveerse loop\n",
    "for i in range(10,0,-1):\n",
    "    print(i, end=' ')"
   ]
  },
  {
   "cell_type": "code",
   "execution_count": 7,
   "metadata": {},
   "outputs": [
    {
     "name": "stdout",
     "output_type": "stream",
     "text": [
      "0 jumanji\n",
      "1 resident evil\n",
      "2 gangs of wasepur\n",
      "3 RRR\n",
      "4 KGF\n",
      "5 harry potter\n",
      "6 iron man\n",
      "7 thor:ragnorok\n",
      "8 roketary\n",
      "9 captain america\n"
     ]
    }
   ],
   "source": [
    "for i, movie in enumerate(movies):\n",
    "    print(i,movie)\n",
    "\n",
    "#enumeration"
   ]
  },
  {
   "cell_type": "code",
   "execution_count": 8,
   "metadata": {},
   "outputs": [],
   "source": [
    "x=[2,56,67,12,56]\n",
    "y=[2,5,1,6,5]\n",
    "z=[2,5,61,46,22]\n"
   ]
  },
  {
   "cell_type": "code",
   "execution_count": 10,
   "metadata": {},
   "outputs": [
    {
     "name": "stdout",
     "output_type": "stream",
     "text": [
      "6 66 129 64 83 "
     ]
    }
   ],
   "source": [
    "# non pythonic\n",
    "for i in range(len(x)):\n",
    "    print(x[i]+y[i]+z[i], end=' ')"
   ]
  },
  {
   "cell_type": "code",
   "execution_count": 11,
   "metadata": {},
   "outputs": [],
   "source": [
    "#pythonic"
   ]
  },
  {
   "cell_type": "code",
   "execution_count": 12,
   "metadata": {},
   "outputs": [
    {
     "name": "stdout",
     "output_type": "stream",
     "text": [
      "6 66 129 64 83 "
     ]
    }
   ],
   "source": [
    "for i,j,k in zip(x,y,z):\n",
    "    print(i+j+k,end=' ')"
   ]
  },
  {
   "cell_type": "code",
   "execution_count": 13,
   "metadata": {},
   "outputs": [
    {
     "name": "stdout",
     "output_type": "stream",
     "text": [
      "total=348\n"
     ]
    }
   ],
   "source": [
    "total=0\n",
    "for i,j,k in zip(x,y,z):\n",
    "    total+= i+j+k\n",
    "print(f'{total=}')"
   ]
  },
  {
   "cell_type": "code",
   "execution_count": 16,
   "metadata": {},
   "outputs": [
    {
     "name": "stdout",
     "output_type": "stream",
     "text": [
      "1\n",
      "2\n",
      "5\n",
      "6\n",
      "2\n",
      "None\n",
      "2\n",
      "5\n",
      "1\n",
      "5\n"
     ]
    }
   ],
   "source": [
    "data=[1,2,0,5,6,2,0,0,None,2,5,1,5]\n",
    "for i in data:\n",
    "    if i==0:\n",
    "        continue\n",
    "    print(i)"
   ]
  },
  {
   "cell_type": "code",
   "execution_count": 17,
   "metadata": {},
   "outputs": [
    {
     "name": "stdout",
     "output_type": "stream",
     "text": [
      "1\n",
      "2\n",
      "0\n",
      "5\n",
      "6\n",
      "2\n",
      "0\n",
      "0\n",
      "the end\n"
     ]
    }
   ],
   "source": [
    "for i in data:\n",
    "    if i==None:\n",
    "        break\n",
    "    print(i)\n",
    "print('the end')"
   ]
  },
  {
   "cell_type": "code",
   "execution_count": 18,
   "metadata": {},
   "outputs": [
    {
     "name": "stdout",
     "output_type": "stream",
     "text": [
      "1\n",
      "2\n",
      "5\n",
      "6\n",
      "2\n"
     ]
    }
   ],
   "source": [
    "for i in data:\n",
    "    if i== 0: continue\n",
    "    if i == None: break\n",
    "    print(i)"
   ]
  }
 ],
 "metadata": {
  "kernelspec": {
   "display_name": "base",
   "language": "python",
   "name": "python3"
  },
  "language_info": {
   "codemirror_mode": {
    "name": "ipython",
    "version": 3
   },
   "file_extension": ".py",
   "mimetype": "text/x-python",
   "name": "python",
   "nbconvert_exporter": "python",
   "pygments_lexer": "ipython3",
   "version": "3.10.8 | packaged by conda-forge | (main, Nov 24 2022, 14:07:00) [MSC v.1916 64 bit (AMD64)]"
  },
  "orig_nbformat": 4,
  "vscode": {
   "interpreter": {
    "hash": "fb42e6a7d9ea774a34db5b7d83c7e46f440895e001e73d6fbba2132d09faa9e1"
   }
  }
 },
 "nbformat": 4,
 "nbformat_minor": 2
}
