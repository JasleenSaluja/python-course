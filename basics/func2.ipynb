{
 "cells": [
  {
   "cell_type": "code",
   "execution_count": null,
   "metadata": {},
   "outputs": [],
   "source": [
    "def display_menu(**items):\n",
    "    if len(items)>0:\n",
    "        for i in items:\n",
    "            print(f'{1:10} $ items{i}')"
   ]
  },
  {
   "cell_type": "code",
   "execution_count": null,
   "metadata": {},
   "outputs": [],
   "source": [
    "diplay_menu(chowmein=80, dumpling=40)"
   ]
  },
  {
   "cell_type": "code",
   "execution_count": null,
   "metadata": {},
   "outputs": [],
   "source": []
  },
  {
   "attachments": {},
   "cell_type": "markdown",
   "metadata": {},
   "source": [
    "#### anonymous\n",
    "lambda expression\n",
    "-map\n",
    "-filter\n",
    "\n",
    "'''\n",
    "f(x)=x+3*3\n",
    "f(x,y)=(x+y)*(x-y)\n",
    "'''''"
   ]
  },
  {
   "cell_type": "code",
   "execution_count": 5,
   "metadata": {},
   "outputs": [
    {
     "name": "stdout",
     "output_type": "stream",
     "text": [
      "297\n",
      "869\n",
      "708\n",
      "-308\n"
     ]
    }
   ],
   "source": [
    "xlist=[21,45,62,76]\n",
    "ylist=[12,34,56,78]\n",
    "\n",
    "def eq(x,y):\n",
    "    return (x+y) *(x-y)\n",
    "\n",
    "for i,j in zip(xlist,ylist):\n",
    "    print(eq(i,j))"
   ]
  },
  {
   "cell_type": "code",
   "execution_count": 6,
   "metadata": {},
   "outputs": [],
   "source": [
    "f=lambda x:x+10/x-10*x-10"
   ]
  },
  {
   "cell_type": "code",
   "execution_count": 7,
   "metadata": {},
   "outputs": [
    {
     "data": {
      "text/plain": [
       "-819.8888888888889"
      ]
     },
     "execution_count": 7,
     "metadata": {},
     "output_type": "execute_result"
    }
   ],
   "source": [
    "f(90 )"
   ]
  },
  {
   "cell_type": "code",
   "execution_count": 9,
   "metadata": {},
   "outputs": [
    {
     "data": {
      "text/plain": [
       "[297, 869, 708, -308]"
      ]
     },
     "execution_count": 9,
     "metadata": {},
     "output_type": "execute_result"
    }
   ],
   "source": [
    "list(map(lambda x,y:(x+y)*(x-y),xlist,ylist))"
   ]
  },
  {
   "cell_type": "code",
   "execution_count": 10,
   "metadata": {},
   "outputs": [],
   "source": [
    "# initials\n",
    "names=['sneha singh','srishti trivedi','anshu singh','shruti singh',\n",
    "       'ayush tiwari','jasleen saluja','abhishek paswan','madhu kumari']"
   ]
  },
  {
   "cell_type": "code",
   "execution_count": 12,
   "metadata": {},
   "outputs": [
    {
     "data": {
      "text/plain": [
       "'ss'"
      ]
     },
     "execution_count": 12,
     "metadata": {},
     "output_type": "execute_result"
    }
   ],
   "source": [
    "'srishti trivedi'.split()[0][0] + 'srishti trivedi'.split()[1][0]"
   ]
  },
  {
   "cell_type": "code",
   "execution_count": 13,
   "metadata": {},
   "outputs": [
    {
     "name": "stdout",
     "output_type": "stream",
     "text": [
      "sneha singh ss\n",
      "srishti trivedi st\n",
      "anshu singh as\n",
      "shruti singh ss\n",
      "ayush tiwari at\n",
      "jasleen saluja js\n",
      "abhishek paswan ap\n",
      "madhu kumari mk\n"
     ]
    }
   ],
   "source": [
    "def get_initials(name):\n",
    "    return name.split()[0][0]+name.split()[1][0]\n",
    "for name in names:\n",
    "    print(name,get_initials(name))"
   ]
  },
  {
   "cell_type": "code",
   "execution_count": 14,
   "metadata": {},
   "outputs": [
    {
     "data": {
      "text/plain": [
       "['ss', 'st', 'as', 'ss', 'at', 'js', 'ap', 'mk']"
      ]
     },
     "execution_count": 14,
     "metadata": {},
     "output_type": "execute_result"
    }
   ],
   "source": [
    "list(map(lambda n:n.split()[0][0]+n.split()[1][0],names))"
   ]
  }
 ],
 "metadata": {
  "kernelspec": {
   "display_name": "base",
   "language": "python",
   "name": "python3"
  },
  "language_info": {
   "codemirror_mode": {
    "name": "ipython",
    "version": 3
   },
   "file_extension": ".py",
   "mimetype": "text/x-python",
   "name": "python",
   "nbconvert_exporter": "python",
   "pygments_lexer": "ipython3",
   "version": "3.10.8"
  },
  "orig_nbformat": 4,
  "vscode": {
   "interpreter": {
    "hash": "fb42e6a7d9ea774a34db5b7d83c7e46f440895e001e73d6fbba2132d09faa9e1"
   }
  }
 },
 "nbformat": 4,
 "nbformat_minor": 2
}
