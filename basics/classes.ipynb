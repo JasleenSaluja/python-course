{
 "cells": [
  {
   "cell_type": "code",
   "execution_count": 1,
   "metadata": {},
   "outputs": [
    {
     "name": "stdout",
     "output_type": "stream",
     "text": [
      "<class 'str'>\n"
     ]
    }
   ],
   "source": [
    "x='hello'\n",
    "print(type(x))"
   ]
  },
  {
   "cell_type": "code",
   "execution_count": 2,
   "metadata": {},
   "outputs": [],
   "source": [
    "class Dog:\n",
    "    def bark(self):\n",
    "        print(\"woof\")\n",
    "    def bite(self,item):\n",
    "        print(f\"biting{item}\")\n",
    "\n",
    "    def __init__(self,age,breed,gender):    #dunder method\n",
    "        self.age=age\n",
    "        self.breed=breed\n",
    "        self.gender=gender\n"
   ]
  },
  {
   "cell_type": "code",
   "execution_count": 3,
   "metadata": {},
   "outputs": [
    {
     "name": "stdout",
     "output_type": "stream",
     "text": [
      "woof\n",
      "bitingshoe\n",
      "bitingfish\n",
      "woof\n"
     ]
    }
   ],
   "source": [
    "tiger =Dog(3,'German Shepherd','male')\n",
    "badshah=Dog(5,'pitbull','male')\n",
    "\n",
    "tiger.bark()\n",
    "badshah.bite('shoe')\n",
    "tiger.bite('fish')\n",
    "badshah.bark()"
   ]
  }
 ],
 "metadata": {
  "kernelspec": {
   "display_name": "base",
   "language": "python",
   "name": "python3"
  },
  "language_info": {
   "codemirror_mode": {
    "name": "ipython",
    "version": 3
   },
   "file_extension": ".py",
   "mimetype": "text/x-python",
   "name": "python",
   "nbconvert_exporter": "python",
   "pygments_lexer": "ipython3",
   "version": "3.10.8"
  },
  "orig_nbformat": 4
 },
 "nbformat": 4,
 "nbformat_minor": 2
}
